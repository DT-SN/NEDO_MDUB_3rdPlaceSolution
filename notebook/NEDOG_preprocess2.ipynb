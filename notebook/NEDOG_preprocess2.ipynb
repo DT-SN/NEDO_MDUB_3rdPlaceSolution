{
  "nbformat": 4,
  "nbformat_minor": 0,
  "metadata": {
    "colab": {
      "provenance": []
    },
    "kernelspec": {
      "name": "python3",
      "display_name": "Python 3"
    },
    "language_info": {
      "name": "python"
    }
  },
  "cells": [
    {
      "cell_type": "code",
      "execution_count": null,
      "metadata": {
        "id": "0qcGZJeA0AhR"
      },
      "outputs": [],
      "source": [
        "import os\n",
        "import sys\n",
        "from pathlib import Path"
      ]
    },
    {
      "cell_type": "code",
      "source": [
        "# HOMEディレクトリ設定(環境に合わせて変更してください)\n",
        "if \"google.colab\" in sys.modules:\n",
        "    # Google Colaboratoryの場合\n",
        "    HOME = Path(\"/content/drive/MyDrive/signate/NEDOG\")\n",
        "\n",
        "    # Google Driveをマウント\n",
        "    if not os.path.exists(\"/content/drive\"):\n",
        "        from google.colab import drive\n",
        "        drive.mount(\"/content/drive\")\n",
        "else:\n",
        "    # それ以外\n",
        "    HOME = Path(\"..\")\n",
        "\n",
        "# INPUT/WORKINGディレクトリ設定\n",
        "INPUT = HOME / \"input\"\n",
        "WORKING = HOME / \"working\""
      ],
      "metadata": {
        "id": "yYuFBXQF0Lta"
      },
      "execution_count": null,
      "outputs": []
    },
    {
      "cell_type": "code",
      "source": [
        "import warnings\n",
        "warnings.simplefilter('ignore', FutureWarning)"
      ],
      "metadata": {
        "id": "aAWXSZgPtwUK"
      },
      "execution_count": null,
      "outputs": []
    },
    {
      "cell_type": "code",
      "source": [
        "import random\n",
        "import numpy as np\n",
        "import pandas as pd\n",
        "import matplotlib.pyplot as plt"
      ],
      "metadata": {
        "id": "B2g8oh9R0SKm"
      },
      "execution_count": null,
      "outputs": []
    },
    {
      "cell_type": "code",
      "source": [
        "emg_cols = [\n",
        "    'TA R', 'TA L', 'LG R', 'LG L', 'RF R', 'RF L', 'VL R', 'VL L',\n",
        "    'ST R', 'ST L', 'GMAX R', 'GMAX L', 'EMI R', 'EMI L', 'DEL R', 'DEL L'\n",
        "]"
      ],
      "metadata": {
        "id": "KjXmGqnVR2JT"
      },
      "execution_count": null,
      "outputs": []
    },
    {
      "cell_type": "code",
      "source": [
        "vel_cols = [\n",
        "    'vel_x', 'vel_y', 'vel_z'\n",
        "]"
      ],
      "metadata": {
        "id": "2X5yjBAwR4M0"
      },
      "execution_count": null,
      "outputs": []
    },
    {
      "cell_type": "markdown",
      "source": [
        "# 読み取り"
      ],
      "metadata": {
        "id": "YLrxh-tWVBOA"
      }
    },
    {
      "cell_type": "code",
      "source": [
        "tr_emg_df = pd.read_pickle(WORKING / 'prep1_tr_emg.pickle')\n",
        "ts_emg_df = pd.read_pickle(WORKING / 'prep1_ts_emg.pickle')\n",
        "rtr_emg_df = pd.read_pickle(WORKING / 'prep1_rtr_emg.pickle')\n",
        "rts_emg_df = pd.read_pickle(WORKING / 'prep1_rts_emg.pickle')"
      ],
      "metadata": {
        "id": "h-LWKd2x7XpK"
      },
      "execution_count": null,
      "outputs": []
    },
    {
      "cell_type": "code",
      "source": [
        "tr_vel_df = pd.read_pickle(WORKING / 'prep1_tr_vel.pickle')\n",
        "rtr_vel_df = pd.read_pickle(WORKING / 'prep1_rtr_vel.pickle')\n",
        "rts_vel_df = pd.read_pickle(WORKING / 'prep1_rts_vel.pickle')"
      ],
      "metadata": {
        "id": "SfrHz_DUO4fu"
      },
      "execution_count": null,
      "outputs": []
    },
    {
      "cell_type": "markdown",
      "source": [
        "# EMGデータ加工"
      ],
      "metadata": {
        "id": "JiYCOoA4VD5F"
      }
    },
    {
      "cell_type": "markdown",
      "source": [
        "## スケール合わせ・絶対値"
      ],
      "metadata": {
        "id": "1fxd5ezUH-h6"
      }
    },
    {
      "cell_type": "code",
      "source": [
        "def modify_data(tr_df, ts_df):\n",
        "    tr_result_df = tr_df.copy()\n",
        "    ts_result_df = ts_df.copy()\n",
        "    smin = tr_result_df['subject'].min()\n",
        "    smax = tr_result_df['subject'].max()\n",
        "    for subject in range(smin, 1+smax):\n",
        "        ftr = tr_result_df['subject'] == subject\n",
        "        fts = ts_result_df['subject'] == subject\n",
        "        for col in emg_cols:\n",
        "            lo, hi = np.percentile(tr_result_df.loc[ftr, col], [0, 100])\n",
        "            tr_result_df.loc[ftr, col] = tr_result_df.loc[ftr, col].clip(lo, hi).abs()\n",
        "            ts_result_df.loc[fts, col] = ts_result_df.loc[fts, col].clip(lo, hi).abs()\n",
        "\n",
        "            scale = np.percentile(tr_result_df.loc[ftr, col], 90)\n",
        "            tr_result_df.loc[ftr, col] /= scale\n",
        "            ts_result_df.loc[fts, col] /= scale\n",
        "\n",
        "    return tr_result_df, ts_result_df"
      ],
      "metadata": {
        "id": "B3HUkSF7U-f9"
      },
      "execution_count": null,
      "outputs": []
    },
    {
      "cell_type": "code",
      "source": [
        "tr_emg_df, ts_emg_df = modify_data(tr_emg_df, ts_emg_df)\n",
        "rtr_emg_df, rts_emg_df = modify_data(rtr_emg_df, rts_emg_df)"
      ],
      "metadata": {
        "id": "-kuPLzdCyFFm"
      },
      "execution_count": null,
      "outputs": []
    },
    {
      "cell_type": "code",
      "source": [
        "# リファレンスデータ結合(train/testで別の被験者扱い)\n",
        "rts_emg_df['subject'] += 1\n",
        "tr_emg_df = pd.concat([tr_emg_df,rtr_emg_df,rts_emg_df], axis=0).reset_index(drop=True)"
      ],
      "metadata": {
        "id": "JmqcdRrKSJd7"
      },
      "execution_count": null,
      "outputs": []
    },
    {
      "cell_type": "markdown",
      "source": [
        "# downsampling"
      ],
      "metadata": {
        "id": "32YrQWZiWZBE"
      }
    },
    {
      "cell_type": "code",
      "source": [
        "def agg_feature(df, group_cols, target_cols, funcs=['mean','std']):\n",
        "    dfs = []\n",
        "    for func in funcs:\n",
        "        agg_df = df.groupby(group_cols)[target_cols].agg(func).rename(\n",
        "            columns=lambda x: f'{func} {x}'\n",
        "        )\n",
        "        dfs.append(agg_df)\n",
        "    return pd.concat(dfs, axis=1).reset_index()"
      ],
      "metadata": {
        "id": "b6t_TwWnQrdZ"
      },
      "execution_count": null,
      "outputs": []
    },
    {
      "cell_type": "code",
      "source": [
        "def downsample_emg(df,):\n",
        "    result_df = df.copy()\n",
        "    result_df['time'] = result_df['time'] * 60 // 2000\n",
        "    result_df = agg_feature(result_df, ['subject','trial','time'], emg_cols)\n",
        "    return result_df"
      ],
      "metadata": {
        "id": "g-XpEkTFGQrC"
      },
      "execution_count": null,
      "outputs": []
    },
    {
      "cell_type": "code",
      "source": [
        "tr_emg_df = downsample_emg(tr_emg_df)\n",
        "ts_emg_df = downsample_emg(ts_emg_df)"
      ],
      "metadata": {
        "id": "X1e5sbzjRMQ3"
      },
      "execution_count": null,
      "outputs": []
    },
    {
      "cell_type": "markdown",
      "source": [
        "## ラグ特徴量追加"
      ],
      "metadata": {
        "id": "TazNUuu7IYUX"
      }
    },
    {
      "cell_type": "code",
      "source": [
        "def lag_feature(df, lags):\n",
        "    dfs = [df]\n",
        "    for lag in lags:\n",
        "        lag_df = df.drop('time',axis=1).groupby(['subject','trial']).shift(lag).rename(\n",
        "            columns=lambda x: f'lag{lag} '+x\n",
        "        )\n",
        "        dfs.append(lag_df)\n",
        "    return pd.concat(dfs, axis=1)"
      ],
      "metadata": {
        "id": "2aOAPb1vIcIW"
      },
      "execution_count": null,
      "outputs": []
    },
    {
      "cell_type": "code",
      "source": [
        "tr_emg_df = lag_feature(tr_emg_df,[-6,-2,2,6])\n",
        "ts_emg_df = lag_feature(ts_emg_df,[-6,-2,2,6])"
      ],
      "metadata": {
        "id": "0BBbbOxpId6T"
      },
      "execution_count": null,
      "outputs": []
    },
    {
      "cell_type": "markdown",
      "source": [
        "# 速度データ加工"
      ],
      "metadata": {
        "id": "hOvK1c5DIiTP"
      }
    },
    {
      "cell_type": "code",
      "source": [
        "# リファレンスデータ結合(train/testで別の被験者扱い)\n",
        "rts_vel_df['subject'] += 1\n",
        "tr_vel_df = pd.concat([tr_vel_df,rtr_vel_df,rts_vel_df], axis=0).reset_index(drop=True)"
      ],
      "metadata": {
        "id": "hYxAt2eWLBEw"
      },
      "execution_count": null,
      "outputs": []
    },
    {
      "cell_type": "markdown",
      "source": [
        "## 極座標"
      ],
      "metadata": {
        "id": "_fZ4bCnZIkp2"
      }
    },
    {
      "cell_type": "code",
      "source": [
        "# 円柱座標系に変換(方位角はsin/cosで出力)\n",
        "def conv_cylindrical(df):\n",
        "    r = np.sqrt(df['vel_x']**2 + df['vel_y']**2)\n",
        "    s = df['vel_y'] / r\n",
        "    c = df['vel_x'] / r\n",
        "    z = df['vel_z']\n",
        "    return r, s, c, z"
      ],
      "metadata": {
        "id": "8TCwArwVIoLP"
      },
      "execution_count": null,
      "outputs": []
    },
    {
      "cell_type": "code",
      "source": [
        "# 球面座標系に変換(z軸方向の角度は仰角で出力)\n",
        "def conv_spherical(df):\n",
        "    r, s, c, z = conv_cylindrical(df)\n",
        "    e = np.arctan2(z, r)\n",
        "    r = np.sqrt(r**2 + z**2)\n",
        "    return r, s, c, e"
      ],
      "metadata": {
        "id": "usUR42YNI1sP"
      },
      "execution_count": null,
      "outputs": []
    },
    {
      "cell_type": "code",
      "source": [
        "tr_vel_df['vel_r'],tr_vel_df['vel_s'],tr_vel_df['vel_c'],tr_vel_df['vel_e'] = conv_spherical(tr_vel_df)"
      ],
      "metadata": {
        "id": "US1bI27KJSy-"
      },
      "execution_count": null,
      "outputs": []
    },
    {
      "cell_type": "markdown",
      "source": [
        "## 加速度"
      ],
      "metadata": {
        "id": "kXNvEy1jXih9"
      }
    },
    {
      "cell_type": "code",
      "source": [
        "def calc_acc(df, cols):\n",
        "    acc_df = df.groupby(['subject','trial'])[cols].transform(\n",
        "        lambda x: (x.shift(-1) - x).ffill()\n",
        "    )\n",
        "    acc_df = acc_df.rename(columns=lambda x: x.replace('vel','acc'))\n",
        "    return acc_df"
      ],
      "metadata": {
        "id": "gqDt7_H5Xj5o"
      },
      "execution_count": null,
      "outputs": []
    },
    {
      "cell_type": "code",
      "source": [
        "tr_acc_df = calc_acc(tr_vel_df, vel_cols+['vel_r','vel_s','vel_c','vel_e'])\n",
        "tr_vel_df = pd.concat([tr_vel_df,tr_acc_df], axis=1)"
      ],
      "metadata": {
        "id": "USZ8jH9AXl3R"
      },
      "execution_count": null,
      "outputs": []
    },
    {
      "cell_type": "markdown",
      "source": [
        "# 鏡像データ結合"
      ],
      "metadata": {
        "id": "2tJlHRDhhGaU"
      }
    },
    {
      "cell_type": "code",
      "source": [
        "def create_mirror_emg(df):\n",
        "    fl = df.columns.str.contains('L$')\n",
        "    fr = df.columns.str.contains('R$')\n",
        "    result_df = df.copy()\n",
        "    result_df.loc[:,fl] = df.loc[:,fr].values\n",
        "    result_df.loc[:,fr] = df.loc[:,fl].values\n",
        "    return result_df"
      ],
      "metadata": {
        "id": "VO64GmXQeVVK"
      },
      "execution_count": null,
      "outputs": []
    },
    {
      "cell_type": "code",
      "source": [
        "def create_mirror_vel(df):\n",
        "    fy = df.columns.str.contains('_y$')\n",
        "    fs = df.columns.str.contains('_s$')\n",
        "    result_df = df.copy()\n",
        "    result_df.loc[:,fy] *= -1\n",
        "    result_df.loc[:,fs] *= -1\n",
        "    return result_df"
      ],
      "metadata": {
        "id": "EjoxZ_omgAL9"
      },
      "execution_count": null,
      "outputs": []
    },
    {
      "cell_type": "code",
      "source": [
        "tr_emg_df = pd.concat([tr_emg_df, create_mirror_emg(tr_emg_df)], axis=0).reset_index(drop=True)\n",
        "ts_emg_df = pd.concat([ts_emg_df, create_mirror_emg(ts_emg_df)], axis=0).reset_index(drop=True)\n",
        "tr_vel_df = pd.concat([tr_vel_df, create_mirror_vel(tr_vel_df)], axis=0).reset_index(drop=True)"
      ],
      "metadata": {
        "id": "_0htj0mFeVIQ"
      },
      "execution_count": null,
      "outputs": []
    },
    {
      "cell_type": "markdown",
      "source": [
        "# 保存"
      ],
      "metadata": {
        "id": "qvt87HCaXIhu"
      }
    },
    {
      "cell_type": "code",
      "source": [
        "tr_emg_df.info()"
      ],
      "metadata": {
        "id": "hVtshR4jSWjY"
      },
      "execution_count": null,
      "outputs": []
    },
    {
      "cell_type": "code",
      "source": [
        "ts_emg_df.info()"
      ],
      "metadata": {
        "id": "0qBcflqTTWCj"
      },
      "execution_count": null,
      "outputs": []
    },
    {
      "cell_type": "code",
      "source": [
        "tr_vel_df.info()"
      ],
      "metadata": {
        "id": "ZZAfwOSUTAtY"
      },
      "execution_count": null,
      "outputs": []
    },
    {
      "cell_type": "code",
      "source": [
        "tr_emg_df.to_pickle(WORKING / 'prep2_tr_emg.pickle')\n",
        "tr_vel_df.to_pickle(WORKING / 'prep2_tr_vel.pickle')\n",
        "ts_emg_df.to_pickle(WORKING / 'prep2_ts_emg.pickle')"
      ],
      "metadata": {
        "id": "USuO21YfTIIM"
      },
      "execution_count": null,
      "outputs": []
    }
  ]
}