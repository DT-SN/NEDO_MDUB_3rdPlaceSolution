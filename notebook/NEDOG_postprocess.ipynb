{
  "nbformat": 4,
  "nbformat_minor": 0,
  "metadata": {
    "colab": {
      "provenance": []
    },
    "kernelspec": {
      "name": "python3",
      "display_name": "Python 3"
    },
    "language_info": {
      "name": "python"
    }
  },
  "cells": [
    {
      "cell_type": "code",
      "execution_count": null,
      "metadata": {
        "id": "0qcGZJeA0AhR"
      },
      "outputs": [],
      "source": [
        "import os\n",
        "import sys\n",
        "from pathlib import Path"
      ]
    },
    {
      "cell_type": "code",
      "source": [
        "# HOMEディレクトリ設定(環境に合わせて変更してください)\n",
        "if \"google.colab\" in sys.modules:\n",
        "    # Google Colaboratoryの場合\n",
        "    HOME = Path(\"/content/drive/MyDrive/signate/NEDOG\")\n",
        "\n",
        "    # Google Driveをマウント\n",
        "    if not os.path.exists(\"/content/drive\"):\n",
        "        from google.colab import drive\n",
        "        drive.mount(\"/content/drive\")\n",
        "else:\n",
        "    # それ以外\n",
        "    HOME = Path(\"..\")\n",
        "\n",
        "# INPUT/WORKINGディレクトリ設定\n",
        "INPUT = HOME / \"input\"\n",
        "WORKING = HOME / \"working\""
      ],
      "metadata": {
        "id": "yYuFBXQF0Lta"
      },
      "execution_count": null,
      "outputs": []
    },
    {
      "cell_type": "code",
      "source": [
        "import warnings\n",
        "warnings.simplefilter('ignore', FutureWarning)"
      ],
      "metadata": {
        "id": "XEEa_200uef6"
      },
      "execution_count": null,
      "outputs": []
    },
    {
      "cell_type": "code",
      "source": [
        "import random\n",
        "import numpy as np\n",
        "import pandas as pd\n",
        "import matplotlib.pyplot as plt\n",
        "import json\n",
        "import scipy.signal"
      ],
      "metadata": {
        "id": "B2g8oh9R0SKm"
      },
      "execution_count": null,
      "outputs": []
    },
    {
      "cell_type": "markdown",
      "source": [
        "# データ読み取り"
      ],
      "metadata": {
        "id": "CLvRSUhGvpY-"
      }
    },
    {
      "cell_type": "code",
      "source": [
        "# スムージング関数\n",
        "def smoothing(df, col):\n",
        "    icol = df.columns.get_loc(col)\n",
        "    for i in range(len(df)//30):\n",
        "        df.iloc[i*30:(i+1)*30,icol] = scipy.signal.savgol_filter(\n",
        "            df.iloc[i*30:(i+1)*30,icol].values,9,1)"
      ],
      "metadata": {
        "id": "zsUW45WW01Tp"
      },
      "execution_count": null,
      "outputs": []
    },
    {
      "cell_type": "code",
      "source": [
        "# 速度推論結果\n",
        "tr_pred_vel_df = pd.read_pickle(WORKING / 'tr_pred_vel_stacking.pickle')\n",
        "tr_pred_vel_df = tr_pred_vel_df.iloc[:len(tr_pred_vel_df)//2]\n",
        "ts_pred_vel_df = pd.read_pickle(WORKING / 'ts_pred_vel_stacking.pickle')\n",
        "ts_pred_vel_df = ts_pred_vel_df.iloc[:len(ts_pred_vel_df)//2]"
      ],
      "metadata": {
        "id": "4u8HSAB0GeS4"
      },
      "execution_count": null,
      "outputs": []
    },
    {
      "cell_type": "code",
      "source": [
        "# 直交座標系変換関数\n",
        "def conv_rectangular(df):\n",
        "    x = df['pred_vel_r'] * np.cos(df['pred_vel_e']) * df['pred_vel_c']\n",
        "    y = df['pred_vel_r'] * np.cos(df['pred_vel_e']) * df['pred_vel_s']\n",
        "    z = df['pred_vel_r'] * np.sin(df['pred_vel_e'])\n",
        "    return x, y, z"
      ],
      "metadata": {
        "id": "g9k-sDjfTqbo"
      },
      "execution_count": null,
      "outputs": []
    },
    {
      "cell_type": "code",
      "source": [
        "# 極座標を直交座標系に変換し平均をとる\n",
        "x, y, z = conv_rectangular(tr_pred_vel_df)\n",
        "tr_pred_vel_df['pred_vel_x'] = (tr_pred_vel_df['pred_vel_x'] + x) / 2\n",
        "tr_pred_vel_df['pred_vel_y'] = (tr_pred_vel_df['pred_vel_y'] + y) / 2\n",
        "tr_pred_vel_df['pred_vel_z'] = (tr_pred_vel_df['pred_vel_z'] + z) / 2\n",
        "tr_pred_vel_df.drop(\n",
        "    ['pred_vel_r','pred_vel_s','pred_vel_c','pred_vel_e'], axis=1, inplace=True\n",
        ")\n",
        "x, y, z = conv_rectangular(ts_pred_vel_df)\n",
        "ts_pred_vel_df['pred_vel_x'] = (ts_pred_vel_df['pred_vel_x'] + x) / 2\n",
        "ts_pred_vel_df['pred_vel_y'] = (ts_pred_vel_df['pred_vel_y'] + y) / 2\n",
        "ts_pred_vel_df['pred_vel_z'] = (ts_pred_vel_df['pred_vel_z'] + z) / 2\n",
        "ts_pred_vel_df.drop(\n",
        "    ['pred_vel_r','pred_vel_s','pred_vel_c','pred_vel_e'], axis=1, inplace=True\n",
        ")"
      ],
      "metadata": {
        "id": "z0Z1cGQhOUV8"
      },
      "execution_count": null,
      "outputs": []
    },
    {
      "cell_type": "code",
      "source": [
        "# CV用\n",
        "tr_vel_df = pd.read_pickle(WORKING / 'prep2_tr_vel.pickle')\n",
        "tr_vel_df = tr_vel_df.iloc[:len(tr_vel_df)//2]\n",
        "tr_vel_df = pd.concat([\n",
        "    tr_vel_df, tr_pred_vel_df,\n",
        "], axis=1)\n",
        "\n",
        "smoothing(tr_vel_df, 'pred_vel_x')\n",
        "smoothing(tr_vel_df, 'pred_vel_y')\n",
        "smoothing(tr_vel_df, 'pred_vel_z')"
      ],
      "metadata": {
        "id": "vLGlUIDVv_5e"
      },
      "execution_count": null,
      "outputs": []
    },
    {
      "cell_type": "code",
      "source": [
        "# submit用\n",
        "ts_vel_df = pd.read_pickle(WORKING / 'prep2_ts_emg.pickle')\n",
        "ts_vel_df = ts_vel_df.iloc[:len(ts_vel_df)//2]\n",
        "ts_vel_df = pd.concat([\n",
        "    ts_vel_df[['subject','trial','time']], ts_pred_vel_df,\n",
        "], axis=1)\n",
        "\n",
        "smoothing(ts_vel_df, 'pred_vel_x')\n",
        "smoothing(ts_vel_df, 'pred_vel_y')\n",
        "smoothing(ts_vel_df, 'pred_vel_z')"
      ],
      "metadata": {
        "id": "osuf3PjWw0li"
      },
      "execution_count": null,
      "outputs": []
    },
    {
      "cell_type": "markdown",
      "source": [
        "# CV"
      ],
      "metadata": {
        "id": "5uybtRqZUCXl"
      }
    },
    {
      "cell_type": "code",
      "source": [
        "s_rmse = []\n",
        "for subject in range(1,1+tr_vel_df['subject'].max()):\n",
        "    fs = tr_vel_df['subject'] == subject\n",
        "    t_rmse = []\n",
        "    for trial in range(1, 1+tr_vel_df.loc[fs,'trial'].max()):\n",
        "        ft = tr_vel_df['trial'] == trial\n",
        "        dx = tr_vel_df.loc[fs & ft, 'vel_x'].values - tr_vel_df.loc[fs & ft, 'pred_vel_x'].values\n",
        "        dy = tr_vel_df.loc[fs & ft, 'vel_y'].values - tr_vel_df.loc[fs & ft, 'pred_vel_y'].values\n",
        "        dz = tr_vel_df.loc[fs & ft, 'vel_z'].values - tr_vel_df.loc[fs & ft, 'pred_vel_z'].values\n",
        "        rmse = np.sqrt(np.mean(dx**2 + dy**2 + dz**2))\n",
        "        t_rmse.append(rmse)\n",
        "    s_rmse.append(np.mean(t_rmse))\n",
        "print(s_rmse)\n",
        "print((np.mean(s_rmse[:4])+s_rmse[4]+s_rmse[5])/3)"
      ],
      "metadata": {
        "id": "cV-glFVTY9x8"
      },
      "execution_count": null,
      "outputs": []
    },
    {
      "cell_type": "markdown",
      "source": [
        "# submission生成"
      ],
      "metadata": {
        "id": "4I05Q3Vyiy4u"
      }
    },
    {
      "cell_type": "code",
      "source": [
        "# 回転変換\n",
        "def rotate_vel(df, angle, xcol='pred_vel_x', ycol='pred_vel_y'):\n",
        "    rot = np.array(\n",
        "        [[np.cos(angle),-np.sin(angle)],[np.sin(angle),np.cos(angle)]]\n",
        "    )\n",
        "    vel_x, vel_y = np.dot(rot, [df[xcol].values, df[ycol].values])\n",
        "    return vel_x, vel_y"
      ],
      "metadata": {
        "id": "ibiIIilCI_3k"
      },
      "execution_count": null,
      "outputs": []
    },
    {
      "cell_type": "code",
      "source": [
        "# 軸補正逆変換\n",
        "theta = {\n",
        "    1: 0.3490504635557099,\n",
        "    2: 0.38184457596775556,\n",
        "    3: 0.5358451499036176,\n",
        "    4: 0.08057051473870801,\n",
        "    5: 0.3388934406953976\n",
        "}\n",
        "for subject in range(1,1+ts_vel_df['subject'].max()):\n",
        "    f = ts_vel_df['subject'] == subject\n",
        "    vel_x, vel_y = rotate_vel(ts_vel_df[f], theta[subject])\n",
        "    ts_vel_df.loc[f, 'pred_vel_x'] = vel_x\n",
        "    ts_vel_df.loc[f, 'pred_vel_y'] = vel_y"
      ],
      "metadata": {
        "id": "C7k1HlkeJPuU"
      },
      "execution_count": null,
      "outputs": []
    },
    {
      "cell_type": "code",
      "source": [
        "# sample submit読み取り\n",
        "with open(INPUT / 'sample_submit.json') as f:\n",
        "    sample_submit = json.load(f)"
      ],
      "metadata": {
        "id": "Kjfdt_rPuVPI"
      },
      "execution_count": null,
      "outputs": []
    },
    {
      "cell_type": "code",
      "source": [
        "# 更新\n",
        "for subject in range(1, 1+ts_vel_df['subject'].max()):\n",
        "    fs = ts_vel_df['subject'] == subject\n",
        "    for trial in range(1, 1+ts_vel_df.loc[fs,'trial'].max()):\n",
        "        ft = ts_vel_df['trial'] == trial\n",
        "        vel_x = ts_vel_df.loc[fs & ft, 'pred_vel_x'].values\n",
        "        vel_y = ts_vel_df.loc[fs & ft, 'pred_vel_y'].values\n",
        "        vel_z = ts_vel_df.loc[fs & ft, 'pred_vel_z'].values\n",
        "        for time in range(30):\n",
        "            sample_submit[f'sub{subject}'][f'trial{trial}'][time][0] = vel_x[time]\n",
        "            sample_submit[f'sub{subject}'][f'trial{trial}'][time][1] = vel_y[time]\n",
        "            sample_submit[f'sub{subject}'][f'trial{trial}'][time][2] = vel_z[time]"
      ],
      "metadata": {
        "id": "Ietuqi8evjUP"
      },
      "execution_count": null,
      "outputs": []
    },
    {
      "cell_type": "code",
      "source": [
        "# 保存\n",
        "with open(WORKING / 'submission.json','w') as f:\n",
        "    json.dump(sample_submit,f)"
      ],
      "metadata": {
        "id": "mrv7gWiIwMw9"
      },
      "execution_count": null,
      "outputs": []
    }
  ]
}