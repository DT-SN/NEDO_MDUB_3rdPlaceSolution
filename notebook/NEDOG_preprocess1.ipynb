{
  "nbformat": 4,
  "nbformat_minor": 0,
  "metadata": {
    "colab": {
      "provenance": []
    },
    "kernelspec": {
      "name": "python3",
      "display_name": "Python 3"
    },
    "language_info": {
      "name": "python"
    }
  },
  "cells": [
    {
      "cell_type": "code",
      "execution_count": null,
      "metadata": {
        "id": "0qcGZJeA0AhR"
      },
      "outputs": [],
      "source": [
        "import os\n",
        "import sys\n",
        "from pathlib import Path"
      ]
    },
    {
      "cell_type": "code",
      "source": [
        "# HOMEディレクトリ設定(環境に合わせて変更してください)\n",
        "if \"google.colab\" in sys.modules:\n",
        "    # Google Colaboratoryの場合\n",
        "    HOME = Path(\"/content/drive/MyDrive/signate/NEDOG\")\n",
        "\n",
        "    # Google Driveをマウント\n",
        "    if not os.path.exists(\"/content/drive\"):\n",
        "        from google.colab import drive\n",
        "        drive.mount(\"/content/drive\")\n",
        "else:\n",
        "    # それ以外\n",
        "    HOME = Path(\"..\")\n",
        "\n",
        "# INPUT/WORKINGディレクトリ設定\n",
        "INPUT = HOME / \"input\"\n",
        "WORKING = HOME / \"working\""
      ],
      "metadata": {
        "id": "wx_EDSmU6ymP"
      },
      "execution_count": null,
      "outputs": []
    },
    {
      "cell_type": "code",
      "source": [
        "import warnings\n",
        "warnings.simplefilter('ignore', FutureWarning)"
      ],
      "metadata": {
        "id": "WdXroDCQsLyc"
      },
      "execution_count": null,
      "outputs": []
    },
    {
      "cell_type": "code",
      "source": [
        "import random\n",
        "import numpy as np\n",
        "import pandas as pd\n",
        "import matplotlib.pyplot as plt\n",
        "import scipy.io as sio"
      ],
      "metadata": {
        "id": "B2g8oh9R0SKm"
      },
      "execution_count": null,
      "outputs": []
    },
    {
      "cell_type": "code",
      "source": [
        "subjects = [\n",
        "    '0001', '0002', '0003', '0004', '0005'\n",
        "]"
      ],
      "metadata": {
        "id": "L8_-TybZLBsu"
      },
      "execution_count": null,
      "outputs": []
    },
    {
      "cell_type": "code",
      "source": [
        "emg_cols = [\n",
        "    'TA R', 'TA L', 'LG R', 'LG L', 'RF R', 'RF L', 'VL R', 'VL L',\n",
        "    'ST R', 'ST L', 'GMAX R', 'GMAX L', 'EMI R', 'EMI L', 'DEL R', 'DEL L'\n",
        "]"
      ],
      "metadata": {
        "id": "_EtosTW8J8X8"
      },
      "execution_count": null,
      "outputs": []
    },
    {
      "cell_type": "code",
      "source": [
        "vel_cols = [\n",
        "    'vel_x', 'vel_y', 'vel_z'\n",
        "]"
      ],
      "metadata": {
        "id": "hpoJz_-GLIbt"
      },
      "execution_count": null,
      "outputs": []
    },
    {
      "cell_type": "markdown",
      "source": [
        "# matからDataFrameに変換"
      ],
      "metadata": {
        "id": "0QeWPQ0AL-CH"
      }
    },
    {
      "cell_type": "code",
      "source": [
        "# matファイル読み取り\n",
        "tr_data = sio.loadmat(INPUT / 'train.mat')\n",
        "ts_data = sio.loadmat(INPUT / 'test.mat')\n",
        "rf_data = sio.loadmat(INPUT / 'reference.mat')"
      ],
      "metadata": {
        "id": "vhhM_hPbJeNh"
      },
      "execution_count": null,
      "outputs": []
    },
    {
      "cell_type": "code",
      "source": [
        "# DataFrame生成関数\n",
        "def create_df(data, index, subjects, cols):\n",
        "    dfs = []\n",
        "    for subject in subjects:\n",
        "        for i, col in enumerate(cols):\n",
        "            df_tmp = pd.DataFrame(data[subject][0][0][index][:,i,:])\n",
        "            df_tmp = df_tmp.stack().reset_index().rename(\n",
        "                columns={'level_0':'trial','level_1':'time',0:col}\n",
        "            )\n",
        "            df = df.merge(df_tmp, on=['trial','time']) if i > 0 else df_tmp\n",
        "        df['trial'] += 1\n",
        "        df['subject'] = int(subject)\n",
        "        dfs.append(df)\n",
        "    df = pd.concat(dfs, axis=0).reset_index(drop=True)\n",
        "    return df"
      ],
      "metadata": {
        "id": "a-aYqCmDLa72"
      },
      "execution_count": null,
      "outputs": []
    },
    {
      "cell_type": "code",
      "source": [
        "# EGMデータ変換\n",
        "tr_emg_df = create_df(tr_data, 0, subjects[:-1], emg_cols)\n",
        "ts_emg_df = create_df(ts_data, 0, subjects[:-1], emg_cols)\n",
        "rtr_emg_df = create_df(rf_data, 0, subjects[-1:], emg_cols)\n",
        "rts_emg_df = create_df(rf_data, 2, subjects[-1:], emg_cols)"
      ],
      "metadata": {
        "id": "EmHKGs_K7MDv"
      },
      "execution_count": null,
      "outputs": []
    },
    {
      "cell_type": "code",
      "source": [
        "# 目的変数変換\n",
        "tr_vel_df = create_df(tr_data, 1, subjects[:-1], vel_cols)\n",
        "rtr_vel_df = create_df(rf_data, 1, subjects[-1:], vel_cols)\n",
        "rts_vel_df = create_df(rf_data, 3, subjects[-1:], vel_cols)"
      ],
      "metadata": {
        "id": "miwDEqdSN8u6"
      },
      "execution_count": null,
      "outputs": []
    },
    {
      "cell_type": "markdown",
      "source": [
        "# 軸補正"
      ],
      "metadata": {
        "id": "8wVkkY2HOomQ"
      }
    },
    {
      "cell_type": "code",
      "source": [
        "# xy平面上でのx軸との角度の中央値\n",
        "def estimate_axis_direction(df):\n",
        "    f = (df['vel_x']**2 + df['vel_y']**2) >= 5\n",
        "    ang = np.arctan2(df.loc[f, 'vel_y'], df.loc[f, 'vel_x'])\n",
        "    ang[ang < -np.pi/2] += np.pi*2\n",
        "    ang[ang > +np.pi/2] -= np.pi\n",
        "    return np.median(ang)"
      ],
      "metadata": {
        "id": "8iWCRe289NPV"
      },
      "execution_count": null,
      "outputs": []
    },
    {
      "cell_type": "code",
      "source": [
        "# 速度ベクトルの回転変換\n",
        "def rotate_vel(df, angle, xcol='vel_x', ycol='vel_y'):\n",
        "    rot = np.array(\n",
        "        [[np.cos(angle),-np.sin(angle)],[np.sin(angle),np.cos(angle)]]\n",
        "    )\n",
        "    vel_x, vel_y = np.dot(rot, [df[xcol].values, df[ycol].values])\n",
        "    return vel_x, vel_y"
      ],
      "metadata": {
        "id": "GuBs5ETy9d1G"
      },
      "execution_count": null,
      "outputs": []
    },
    {
      "cell_type": "code",
      "source": [
        "# 被験者ごとに補正\n",
        "theta = {}\n",
        "for subject in range(1,5):\n",
        "    f = tr_vel_df['subject'] == subject\n",
        "    theta[subject] = estimate_axis_direction(tr_vel_df[f])\n",
        "\n",
        "    vel_x, vel_y = rotate_vel(tr_vel_df[f], -theta[subject])\n",
        "    tr_vel_df.loc[f, 'vel_x'] = vel_x\n",
        "    tr_vel_df.loc[f, 'vel_y'] = vel_y\n",
        "\n",
        "theta[5] = estimate_axis_direction(rtr_vel_df)\n",
        "vel_x, vel_y = rotate_vel(rtr_vel_df, -theta[5])\n",
        "rtr_vel_df['vel_x'] = vel_x\n",
        "rtr_vel_df['vel_y'] = vel_y\n",
        "vel_x, vel_y = rotate_vel(rts_vel_df, -theta[5])\n",
        "rts_vel_df['vel_x'] = vel_x\n",
        "rts_vel_df['vel_y'] = vel_y\n",
        "\n",
        "theta"
      ],
      "metadata": {
        "id": "ghC0ccsO94Di"
      },
      "execution_count": null,
      "outputs": []
    },
    {
      "cell_type": "markdown",
      "source": [
        "# Train/Testで方向をそろえる"
      ],
      "metadata": {
        "id": "DyeaL9HsPZz3"
      }
    },
    {
      "cell_type": "code",
      "source": [
        "tr_vel_df[['vel_x','vel_y']] = -tr_vel_df[['vel_x','vel_y']]\n",
        "rtr_vel_df[['vel_x','vel_y']] = -rtr_vel_df[['vel_x','vel_y']]"
      ],
      "metadata": {
        "id": "Zt8WmYGm6xFj"
      },
      "execution_count": null,
      "outputs": []
    },
    {
      "cell_type": "markdown",
      "source": [
        "# 保存"
      ],
      "metadata": {
        "id": "j3rckrfwQSTb"
      }
    },
    {
      "cell_type": "code",
      "source": [
        "tr_emg_df.to_pickle(WORKING / 'prep1_tr_emg.pickle')\n",
        "ts_emg_df.to_pickle(WORKING / 'prep1_ts_emg.pickle')\n",
        "rtr_emg_df.to_pickle(WORKING / 'prep1_rtr_emg.pickle')\n",
        "rts_emg_df.to_pickle(WORKING / 'prep1_rts_emg.pickle')"
      ],
      "metadata": {
        "id": "W8ZzoJEv_zEj"
      },
      "execution_count": null,
      "outputs": []
    },
    {
      "cell_type": "code",
      "source": [
        "tr_vel_df.to_pickle(WORKING / 'prep1_tr_vel.pickle')\n",
        "rtr_vel_df.to_pickle(WORKING / 'prep1_rtr_vel.pickle')\n",
        "rts_vel_df.to_pickle(WORKING / 'prep1_rts_vel.pickle')"
      ],
      "metadata": {
        "id": "DwNtMfwl_y6m"
      },
      "execution_count": null,
      "outputs": []
    }
  ]
}